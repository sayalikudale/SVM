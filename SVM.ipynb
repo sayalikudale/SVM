{
 "cells": [
  {
   "cell_type": "code",
   "execution_count": 1,
   "metadata": {
    "collapsed": true
   },
   "outputs": [],
   "source": [
    "#Author : Sayali Kudale\n",
    "\n",
    "#loading the required libraries\n",
    "\n",
    "import scipy.io\n",
    "import numpy as np\n",
    "import pandas as pd \n",
    "from sklearn.multiclass import OneVsRestClassifier \n",
    "from sklearn.svm import SVC \n",
    "from sklearn.metrics import accuracy_score, classification_report \n",
    "from sklearn.metrics import confusion_matrix  \n",
    "import time"
   ]
  },
  {
   "cell_type": "code",
   "execution_count": 2,
   "metadata": {
    "collapsed": false
   },
   "outputs": [],
   "source": [
    "#Data Loading \n",
    "\n",
    "mat = scipy.io.loadmat('Data/USPS_all.mat')\n",
    "df_features = pd.DataFrame(mat['fea'])\n",
    "df_gnd = pd.DataFrame(mat['gnd'])\n",
    "\n",
    "\n",
    "#Split data into training and testing set\n",
    "\n",
    "train_fea= df_features.iloc[:7291] \n",
    "test_fea= df_features.iloc[-2007:]\n",
    "train_dec= df_gnd.iloc[:7291] \n",
    "test_dec= df_gnd.iloc[-2007:] "
   ]
  },
  {
   "cell_type": "markdown",
   "metadata": {},
   "source": [
    "###  SVM Model - Linear Kernel "
   ]
  },
  {
   "cell_type": "code",
   "execution_count": 3,
   "metadata": {
    "collapsed": false
   },
   "outputs": [
    {
     "name": "stdout",
     "output_type": "stream",
     "text": [
      "Training time :  15.076912879943848\n"
     ]
    }
   ],
   "source": [
    "# Creating the SVM model \n",
    "model = OneVsRestClassifier(SVC(kernel='linear')) \n",
    "\n",
    "trainStart = time.time()\n",
    "# Fitting the model with training data \n",
    "model.fit(train_fea, train_dec) \n",
    "\n",
    "trainEnd = time.time()\n",
    "\n",
    "print(\"Training time : \", trainEnd-trainStart)\n"
   ]
  },
  {
   "cell_type": "code",
   "execution_count": 4,
   "metadata": {
    "collapsed": true
   },
   "outputs": [],
   "source": [
    "# Making a prediction on the test set \n",
    "prediction = model.predict(test_fea) "
   ]
  },
  {
   "cell_type": "code",
   "execution_count": 5,
   "metadata": {
    "collapsed": false
   },
   "outputs": [
    {
     "name": "stdout",
     "output_type": "stream",
     "text": [
      "Accuracy Score : 91.6292974589\n"
     ]
    }
   ],
   "source": [
    "# Evaluating the model \n",
    "score=accuracy_score(test_dec, prediction) * 100\n",
    "print(\"Accuracy Score : %s\" %score)"
   ]
  },
  {
   "cell_type": "code",
   "execution_count": 6,
   "metadata": {
    "collapsed": false
   },
   "outputs": [
    {
     "name": "stdout",
     "output_type": "stream",
     "text": [
      "Classification report for linear kernel function: \n",
      "              precision    recall  f1-score   support\n",
      "\n",
      "          1       0.95      0.97      0.96       359\n",
      "          2       0.98      0.97      0.98       264\n",
      "          3       0.87      0.85      0.86       198\n",
      "          4       0.86      0.86      0.86       166\n",
      "          5       0.86      0.89      0.87       200\n",
      "          6       0.89      0.89      0.89       160\n",
      "          7       0.96      0.95      0.96       170\n",
      "          8       0.93      0.90      0.92       147\n",
      "          9       0.88      0.87      0.87       166\n",
      "         10       0.91      0.93      0.92       177\n",
      "\n",
      "avg / total       0.92      0.92      0.92      2007\n",
      "\n",
      "Confusion Matrix for linear kernel function: \n",
      " [[350   0   2   1   3   0   0   0   3   0]\n",
      " [  0 255   1   3   2   0   2   0   1   0]\n",
      " [  5   0 168   6   9   1   1   2   6   0]\n",
      " [  2   0   4 142   2   8   0   3   3   2]\n",
      " [  1   2   7   0 177   1   2   2   3   5]\n",
      " [  3   0   0   7   3 143   0   0   0   4]\n",
      " [  0   0   3   0   2   2 162   0   1   0]\n",
      " [  2   0   2   2   4   0   0 133   0   4]\n",
      " [  5   0   4   4   1   6   1   0 144   1]\n",
      " [  0   2   2   0   2   0   0   3   3 165]]\n"
     ]
    }
   ],
   "source": [
    "classsification_report=classification_report(test_dec, prediction)\n",
    "print('Classification report for linear kernel function: \\n',classsification_report)\n",
    "\n",
    "cm_linear= confusion_matrix(test_dec, prediction)  \n",
    "print(\"Confusion Matrix for linear kernel function: \\n\",cm_linear)"
   ]
  },
  {
   "cell_type": "markdown",
   "metadata": {},
   "source": [
    "### SVM Model - Polynomial Kernel function"
   ]
  },
  {
   "cell_type": "code",
   "execution_count": 7,
   "metadata": {
    "collapsed": false
   },
   "outputs": [
    {
     "name": "stdout",
     "output_type": "stream",
     "text": [
      "Training time :  16.43656301498413\n"
     ]
    }
   ],
   "source": [
    "# Creating the SVM model \n",
    "modelPoly = OneVsRestClassifier(SVC(kernel='poly')) \n",
    "trainStart = time.time()\n",
    "# Fitting the model with training data \n",
    "modelPoly.fit(train_fea, train_dec) \n",
    "trainEnd = time.time()\n",
    "\n",
    "print(\"Training time : \", trainEnd-trainStart)\n"
   ]
  },
  {
   "cell_type": "code",
   "execution_count": 8,
   "metadata": {
    "collapsed": true
   },
   "outputs": [],
   "source": [
    "# Making a prediction on the test set \n",
    "predictionPoly = modelPoly.predict(test_fea) "
   ]
  },
  {
   "cell_type": "code",
   "execution_count": 9,
   "metadata": {
    "collapsed": false
   },
   "outputs": [
    {
     "name": "stdout",
     "output_type": "stream",
     "text": [
      "Accuracy Score : 93.2735426009\n"
     ]
    }
   ],
   "source": [
    "# Evaluating the model \n",
    "scorePoly=accuracy_score(test_dec, predictionPoly) * 100\n",
    "print(\"Accuracy Score : %s\" %scorePoly)"
   ]
  },
  {
   "cell_type": "code",
   "execution_count": 10,
   "metadata": {
    "collapsed": false
   },
   "outputs": [
    {
     "name": "stdout",
     "output_type": "stream",
     "text": [
      "Classification report of Polynomial kernel function: \n",
      "              precision    recall  f1-score   support\n",
      "\n",
      "          1       0.94      0.99      0.96       359\n",
      "          2       0.98      0.97      0.98       264\n",
      "          3       0.90      0.89      0.90       198\n",
      "          4       0.92      0.90      0.91       166\n",
      "          5       0.88      0.93      0.90       200\n",
      "          6       0.90      0.91      0.90       160\n",
      "          7       0.96      0.92      0.94       170\n",
      "          8       0.96      0.91      0.94       147\n",
      "          9       0.94      0.88      0.91       166\n",
      "         10       0.93      0.95      0.94       177\n",
      "\n",
      "avg / total       0.93      0.93      0.93      2007\n",
      "\n",
      "Confusion Matrix for Polynomial kernel function: \n",
      " [[354   0   2   0   2   0   0   0   0   1]\n",
      " [  0 255   1   1   4   0   3   0   0   0]\n",
      " [  6   0 177   3   5   2   1   1   3   0]\n",
      " [  3   0   4 149   0   6   0   2   1   1]\n",
      " [  1   2   6   0 185   0   2   1   0   3]\n",
      " [  5   0   0   4   1 146   0   0   0   4]\n",
      " [  4   0   3   0   3   2 157   0   1   0]\n",
      " [  0   0   2   0   6   0   0 134   2   3]\n",
      " [  4   1   2   5   1   6   0   0 146   1]\n",
      " [  0   1   0   0   3   1   0   1   2 169]]\n"
     ]
    }
   ],
   "source": [
    "classsification_reportPoly=classification_report(test_dec, predictionPoly)\n",
    "print('Classification report of Polynomial kernel function: \\n',classsification_reportPoly)\n",
    "\n",
    "cm_poly= confusion_matrix(test_dec, predictionPoly)  \n",
    "print(\"Confusion Matrix for Polynomial kernel function: \\n\",cm_poly)"
   ]
  }
 ],
 "metadata": {
  "anaconda-cloud": {},
  "kernelspec": {
   "display_name": "Python [default]",
   "language": "python",
   "name": "python3"
  },
  "language_info": {
   "codemirror_mode": {
    "name": "ipython",
    "version": 3
   },
   "file_extension": ".py",
   "mimetype": "text/x-python",
   "name": "python",
   "nbconvert_exporter": "python",
   "pygments_lexer": "ipython3",
   "version": "3.5.2"
  }
 },
 "nbformat": 4,
 "nbformat_minor": 1
}
